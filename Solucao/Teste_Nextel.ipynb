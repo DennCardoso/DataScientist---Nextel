{
 "cells": [
  {
   "cell_type": "markdown",
   "metadata": {},
   "source": [
    "<img src='nextel.jpg'></img>\n",
    "<center><h1>Teste Engenheiro de Dados - Nextel Telecomunicações</h1></center>"
   ]
  },
  {
   "cell_type": "markdown",
   "metadata": {},
   "source": [
    "<h3>Nome: Dennis Cardoso</h2>\n",
    "<h3>Data: 12 de Agosto de 2018</h2>"
   ]
  },
  {
   "cell_type": "markdown",
   "metadata": {},
   "source": [
    "<H2> Objetivos </h2>\n",
    "\n",
    "A base de house_sales.csv fornece os dados de vendas de casas em uma determinadar região dos Estados Unidos. Abaixo segue o dicionário de dados da base de dados:\n",
    "\n",
    "<ul>\n",
    "    <li>**price** - The last price the house was sold for</li>\n",
    "    <li>**num_bed** - The number of bedrooms</li>\n",
    "    <li>**num_bath** - The number of bathrooms (fractions mean the house has a toilet-only or shower/bathtub-only bathroom)</li>\n",
    "    <li>**size_house** (includes basement) - The size of the house</li>\n",
    "    <li>**size_lot** - The size of the lot</li>\n",
    "    <li>**num_floors** - The number of floors</li>\n",
    "    <li>**is_waterfront** - Whether or not the house is a waterfront house (0 means it is not a waterfront house whereas 1 means that it is a waterfront house)</li>\n",
    "    <li>**condition** - How worn out the house is. Ranges from 1 (needs repairs all over the place) to 5 (the house is very well maintained)</li>\n",
    "    <li>**size_basement** - The size of the basement</li>\n",
    "    <li>**year_built** - The year the house was built</li>\n",
    "    <li>**renovation_date** - The year the house was renovated for the last time. 0 means the house has never been renovated</li>\n",
    "    <li>**zip** - The zip code</li>\n",
    "    <li>**latitude** - Latitude</li>\n",
    "    <li>**longitude** - Longitude</li>\n",
    "    <li>**avg_size_neighbor_houses** - The average house size of the neighbors</li>\n",
    "    <li>**avg_size_neighbor_lot** - The average lot size of the neighbors</li>\n",
    "</ul>\n",
    "\n",
    "Utilizando o arquivo 'houses_sales.csv', serão realizadas análises preliminares dos valores para identificar hipóteses, e então, construir um modelo preditivo para identificar os melhores preços das casas dessa região."
   ]
  },
  {
   "cell_type": "markdown",
   "metadata": {},
   "source": [
    "<h2>Ferramentas e Linguagem</h2>\n",
    "\n",
    "Neste teste, estão sendo utilizadas as seguintes ferramentas e linguagens:\n",
    "\n",
    "<ul>\n",
    "  <li>Jupyter Notebook</li>\n",
    "  <li>Anaconda</li>\n",
    "  <li>Python 3.0</li>\n",
    "  <li>sublime</li>\n",
    "</ul>"
   ]
  },
  {
   "cell_type": "code",
   "execution_count": null,
   "metadata": {},
   "outputs": [],
   "source": [
    "#iniciando as bibliotecas a serem utilizadas\n",
    "\n",
    "#Biblioteca panda pra análises de dados\n",
    "import pandas as pd\n",
    "\n",
    "#biblioteca fundamental para computação cientifica em python\n",
    "import numpy as np\n",
    "\n",
    "#Teste de biblioteca\n",
    "from sklearn.preprocessing import LabelEncoder\n",
    "\n",
    "#Função para construção de uma base de treino e de teste para nosso modelo\n",
    "from sklearn.model_selection import train_test_split\n",
    "\n",
    "#Função para execução de uma regração Linear\n",
    "from sklearn.linear_model import LinearRegression"
   ]
  },
  {
   "cell_type": "markdown",
   "metadata": {},
   "source": [
    "<h3> Input de dados</h2>"
   ]
  },
  {
   "cell_type": "code",
   "execution_count": null,
   "metadata": {},
   "outputs": [],
   "source": [
    "#Entrada de arquivo para análise para um dataframe\n",
    "housedata = pd.read_csv('house_sales.csv')\n",
    "\n",
    "#Nome de todas as colunas do arquivos\n",
    "housedata.columns.tolist()"
   ]
  },
  {
   "cell_type": "code",
   "execution_count": null,
   "metadata": {},
   "outputs": [],
   "source": [
    "#Exibir informações preliminares (10 linhas):\n",
    "housedata.head(10)"
   ]
  },
  {
   "cell_type": "code",
   "execution_count": null,
   "metadata": {},
   "outputs": [],
   "source": [
    "#Resumo dos campos número, com analises preliminares\n",
    "housedata.describe()"
   ]
  },
  {
   "cell_type": "code",
   "execution_count": null,
   "metadata": {},
   "outputs": [],
   "source": [
    "#Exibir os tipos dos das colunas analisadas\n",
    "housedata.dtypes"
   ]
  },
  {
   "cell_type": "code",
   "execution_count": null,
   "metadata": {},
   "outputs": [],
   "source": [
    "#Total de linhas:\n",
    "print('A estrutura de dados contém {} linhas de registro e {} colunas.'.format(housedata.shape[0], housedata.shape[1]))"
   ]
  },
  {
   "cell_type": "markdown",
   "metadata": {},
   "source": [
    "<h3>Contrução do Modelo Preditivo - Regressão Linear</h3>"
   ]
  },
  {
   "cell_type": "markdown",
   "metadata": {},
   "source": [
    "<h4>Treinando o modelo</h4>"
   ]
  },
  {
   "cell_type": "markdown",
   "metadata": {},
   "source": [
    "Geraremos uma base de teste e de treino para adicionar dados ao modelo:"
   ]
  },
  {
   "cell_type": "code",
   "execution_count": null,
   "metadata": {},
   "outputs": [],
   "source": [
    "#variável Y com valores apenas do preço das casas - Coluna 'price'\n",
    "y = housedata['price']\n",
    "\n",
    "#Variável x contém as demais colunas, com exceção da coluna 'price'\n",
    "x = housedata.drop(['price'],axis=1)\n",
    "\n",
    "#criando variáveis de teste e treino para o modelo de regressão linear\n",
    "x_train, x_test, y_train, y_test = train_test_split(x, y, random_state = 1) "
   ]
  },
  {
   "cell_type": "code",
   "execution_count": null,
   "metadata": {},
   "outputs": [],
   "source": [
    "#realizar o modelo de regressão nas bases de treino e de teste\n",
    "housemodel = LinearRegression()\n",
    "housemodel.fit(x_train, y_train)"
   ]
  },
  {
   "cell_type": "markdown",
   "metadata": {},
   "source": [
    "<h4>Verificando a qualidade do modelo - Score e coeficientes</h4>"
   ]
  },
  {
   "cell_type": "code",
   "execution_count": null,
   "metadata": {},
   "outputs": [],
   "source": [
    "#Teste de pontuação do modelo na base de treino\n",
    "housemodel.score(x_train, y_train)"
   ]
  },
  {
   "cell_type": "code",
   "execution_count": null,
   "metadata": {},
   "outputs": [],
   "source": [
    "#Teste de pontuação do modelo na base de teste\n",
    "housemodel.score(x_test, y_test)"
   ]
  },
  {
   "cell_type": "code",
   "execution_count": null,
   "metadata": {},
   "outputs": [],
   "source": [
    "#Desmontração dos coeficientes\n",
    "for idx, column_name in enumerate(x_train.columns):\n",
    "    print(\"O coeficiente para {} é {}\".format(column_name, housemodel.coef_[idx]))"
   ]
  },
  {
   "cell_type": "code",
   "execution_count": null,
   "metadata": {},
   "outputs": [],
   "source": [
    "#Intercepto do modelo\n",
    "\n",
    "intercepto = housemodel.intercept_\n",
    "print(\"O intercepto do modelo é {}\".format(intercepto))"
   ]
  },
  {
   "cell_type": "markdown",
   "metadata": {},
   "source": [
    "<h4>Realizar previsões de preço</h4>"
   ]
  },
  {
   "cell_type": "code",
   "execution_count": null,
   "metadata": {},
   "outputs": [],
   "source": [
    "#Precisão de preço utilizando a base de teste - Calculo aleatório\n",
    "precocasa = housemodel.predict(x_test)\n",
    "\n",
    "print(\"O preço de venda: U$ {:0,.0f}\".format(int(precocasa[random.randint(0, 100)])))"
   ]
  },
  {
   "cell_type": "code",
   "execution_count": null,
   "metadata": {},
   "outputs": [],
   "source": [
    "#Precisão de preço utilizando valores de exemplo\n",
    "precocasa = housemodel.predict([[3,1,1181,5650,1,0,3,0,1955,0,98178,47.51123398,-122.2567754,1340,5650]])\n",
    "\n",
    "print(\"O preço de venda: U$ {:0,.0f}\".format(int(precocasa)))"
   ]
  },
  {
   "cell_type": "code",
   "execution_count": null,
   "metadata": {},
   "outputs": [],
   "source": []
  }
 ],
 "metadata": {
  "kernelspec": {
   "display_name": "Python 3",
   "language": "python",
   "name": "python3"
  },
  "language_info": {
   "codemirror_mode": {
    "name": "ipython",
    "version": 3
   },
   "file_extension": ".py",
   "mimetype": "text/x-python",
   "name": "python",
   "nbconvert_exporter": "python",
   "pygments_lexer": "ipython3",
   "version": "3.6.5"
  }
 },
 "nbformat": 4,
 "nbformat_minor": 2
}
